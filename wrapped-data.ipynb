{
 "cells": [
  {
   "cell_type": "code",
   "id": "initial_id",
   "metadata": {
    "collapsed": true,
    "ExecuteTime": {
     "end_time": "2025-09-01T21:51:10.670931Z",
     "start_time": "2025-09-01T21:51:10.664790Z"
    }
   },
   "source": [
    "# importing needed libraries\n",
    "import pandas as pd\n",
    "import matplotlib.pyplot as plt\n",
    "import seaborn as sns"
   ],
   "outputs": [],
   "execution_count": 1
  },
  {
   "metadata": {
    "ExecuteTime": {
     "end_time": "2025-09-01T22:36:07.228887Z",
     "start_time": "2025-09-01T22:36:07.072653Z"
    }
   },
   "cell_type": "code",
   "source": [
    "# loading json files into dataframe\n",
    "files = [\"StreamingHistory_music_0.json\",\n",
    "         \"StreamingHistory_music_1.json\"]\n",
    "dfs = [pd.read_json(file) for file in files]\n",
    "music_df = pd.concat(dfs, ignore_index=True)\n",
    "music_df.index += 1\n",
    "music_df.head()"
   ],
   "id": "e5b18ca96de3a4cd",
   "outputs": [
    {
     "data": {
      "text/plain": [
       "            endTime         artistName                             trackName  \\\n",
       "1  2024-08-31 00:33  Pharrell Williams  Double Life - From \"Despicable Me 4\"   \n",
       "2  2024-08-31 00:38           Doja Cat                                 Alone   \n",
       "3  2024-08-31 00:39            Normani                                  Fair   \n",
       "4  2024-08-31 00:39         Bebe Rexha    Baby, I'm Jealous (feat. Doja Cat)   \n",
       "5  2024-08-31 00:39         Anne-Marie          To Be Young (feat. Doja Cat)   \n",
       "\n",
       "   msPlayed  \n",
       "1     28437  \n",
       "2    228866  \n",
       "3      1066  \n",
       "4      7680  \n",
       "5      1173  "
      ],
      "text/html": [
       "<div>\n",
       "<style scoped>\n",
       "    .dataframe tbody tr th:only-of-type {\n",
       "        vertical-align: middle;\n",
       "    }\n",
       "\n",
       "    .dataframe tbody tr th {\n",
       "        vertical-align: top;\n",
       "    }\n",
       "\n",
       "    .dataframe thead th {\n",
       "        text-align: right;\n",
       "    }\n",
       "</style>\n",
       "<table border=\"1\" class=\"dataframe\">\n",
       "  <thead>\n",
       "    <tr style=\"text-align: right;\">\n",
       "      <th></th>\n",
       "      <th>endTime</th>\n",
       "      <th>artistName</th>\n",
       "      <th>trackName</th>\n",
       "      <th>msPlayed</th>\n",
       "    </tr>\n",
       "  </thead>\n",
       "  <tbody>\n",
       "    <tr>\n",
       "      <th>1</th>\n",
       "      <td>2024-08-31 00:33</td>\n",
       "      <td>Pharrell Williams</td>\n",
       "      <td>Double Life - From \"Despicable Me 4\"</td>\n",
       "      <td>28437</td>\n",
       "    </tr>\n",
       "    <tr>\n",
       "      <th>2</th>\n",
       "      <td>2024-08-31 00:38</td>\n",
       "      <td>Doja Cat</td>\n",
       "      <td>Alone</td>\n",
       "      <td>228866</td>\n",
       "    </tr>\n",
       "    <tr>\n",
       "      <th>3</th>\n",
       "      <td>2024-08-31 00:39</td>\n",
       "      <td>Normani</td>\n",
       "      <td>Fair</td>\n",
       "      <td>1066</td>\n",
       "    </tr>\n",
       "    <tr>\n",
       "      <th>4</th>\n",
       "      <td>2024-08-31 00:39</td>\n",
       "      <td>Bebe Rexha</td>\n",
       "      <td>Baby, I'm Jealous (feat. Doja Cat)</td>\n",
       "      <td>7680</td>\n",
       "    </tr>\n",
       "    <tr>\n",
       "      <th>5</th>\n",
       "      <td>2024-08-31 00:39</td>\n",
       "      <td>Anne-Marie</td>\n",
       "      <td>To Be Young (feat. Doja Cat)</td>\n",
       "      <td>1173</td>\n",
       "    </tr>\n",
       "  </tbody>\n",
       "</table>\n",
       "</div>"
      ]
     },
     "execution_count": 3,
     "metadata": {},
     "output_type": "execute_result"
    }
   ],
   "execution_count": 3
  },
  {
   "metadata": {
    "ExecuteTime": {
     "end_time": "2025-09-02T22:14:36.910294Z",
     "start_time": "2025-09-02T22:14:36.894380Z"
    }
   },
   "cell_type": "code",
   "source": [
    "# loading podcast file\n",
    "podcast_df = pd.read_json(\"StreamingHistory_podcast_0.json\")\n",
    "podcast_df.index += 1\n",
    "podcast_df.head()"
   ],
   "id": "3d77811f76e0a490",
   "outputs": [
    {
     "data": {
      "text/plain": [
       "            endTime                          podcastName  \\\n",
       "1  2024-09-15 03:43  anything goes with emma chamberlain   \n",
       "2  2024-09-17 00:10  anything goes with emma chamberlain   \n",
       "3  2024-09-17 00:11  anything goes with emma chamberlain   \n",
       "4  2024-09-17 00:18  anything goes with emma chamberlain   \n",
       "5  2024-09-17 00:21  anything goes with emma chamberlain   \n",
       "\n",
       "                           episodeName  msPlayed  \n",
       "1  a talk with suki waterhouse [video]     13838  \n",
       "2  a talk with suki waterhouse [video]     20782  \n",
       "3  a talk with suki waterhouse [video]     52509  \n",
       "4  a talk with suki waterhouse [video]         0  \n",
       "5  a talk with suki waterhouse [video]       808  "
      ],
      "text/html": [
       "<div>\n",
       "<style scoped>\n",
       "    .dataframe tbody tr th:only-of-type {\n",
       "        vertical-align: middle;\n",
       "    }\n",
       "\n",
       "    .dataframe tbody tr th {\n",
       "        vertical-align: top;\n",
       "    }\n",
       "\n",
       "    .dataframe thead th {\n",
       "        text-align: right;\n",
       "    }\n",
       "</style>\n",
       "<table border=\"1\" class=\"dataframe\">\n",
       "  <thead>\n",
       "    <tr style=\"text-align: right;\">\n",
       "      <th></th>\n",
       "      <th>endTime</th>\n",
       "      <th>podcastName</th>\n",
       "      <th>episodeName</th>\n",
       "      <th>msPlayed</th>\n",
       "    </tr>\n",
       "  </thead>\n",
       "  <tbody>\n",
       "    <tr>\n",
       "      <th>1</th>\n",
       "      <td>2024-09-15 03:43</td>\n",
       "      <td>anything goes with emma chamberlain</td>\n",
       "      <td>a talk with suki waterhouse [video]</td>\n",
       "      <td>13838</td>\n",
       "    </tr>\n",
       "    <tr>\n",
       "      <th>2</th>\n",
       "      <td>2024-09-17 00:10</td>\n",
       "      <td>anything goes with emma chamberlain</td>\n",
       "      <td>a talk with suki waterhouse [video]</td>\n",
       "      <td>20782</td>\n",
       "    </tr>\n",
       "    <tr>\n",
       "      <th>3</th>\n",
       "      <td>2024-09-17 00:11</td>\n",
       "      <td>anything goes with emma chamberlain</td>\n",
       "      <td>a talk with suki waterhouse [video]</td>\n",
       "      <td>52509</td>\n",
       "    </tr>\n",
       "    <tr>\n",
       "      <th>4</th>\n",
       "      <td>2024-09-17 00:18</td>\n",
       "      <td>anything goes with emma chamberlain</td>\n",
       "      <td>a talk with suki waterhouse [video]</td>\n",
       "      <td>0</td>\n",
       "    </tr>\n",
       "    <tr>\n",
       "      <th>5</th>\n",
       "      <td>2024-09-17 00:21</td>\n",
       "      <td>anything goes with emma chamberlain</td>\n",
       "      <td>a talk with suki waterhouse [video]</td>\n",
       "      <td>808</td>\n",
       "    </tr>\n",
       "  </tbody>\n",
       "</table>\n",
       "</div>"
      ]
     },
     "execution_count": 5,
     "metadata": {},
     "output_type": "execute_result"
    }
   ],
   "execution_count": 5
  },
  {
   "metadata": {},
   "cell_type": "code",
   "outputs": [],
   "execution_count": null,
   "source": "",
   "id": "71ff2b1d09dc022c"
  }
 ],
 "metadata": {
  "kernelspec": {
   "display_name": "Python 3",
   "language": "python",
   "name": "python3"
  },
  "language_info": {
   "codemirror_mode": {
    "name": "ipython",
    "version": 2
   },
   "file_extension": ".py",
   "mimetype": "text/x-python",
   "name": "python",
   "nbconvert_exporter": "python",
   "pygments_lexer": "ipython2",
   "version": "2.7.6"
  }
 },
 "nbformat": 4,
 "nbformat_minor": 5
}
