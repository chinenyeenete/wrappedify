{
 "cells": [
  {
   "cell_type": "code",
   "id": "initial_id",
   "metadata": {
    "collapsed": true,
    "ExecuteTime": {
     "end_time": "2025-09-01T21:51:10.670931Z",
     "start_time": "2025-09-01T21:51:10.664790Z"
    }
   },
   "source": [
    "# importing needed libraries\n",
    "import pandas as pd\n",
    "import matplotlib.pyplot as plt\n",
    "import seaborn as sns"
   ],
   "outputs": [],
   "execution_count": 1
  },
  {
   "metadata": {
    "ExecuteTime": {
     "end_time": "2025-09-01T21:58:17.291412Z",
     "start_time": "2025-09-01T21:58:17.218464Z"
    }
   },
   "cell_type": "code",
   "source": [
    "# loading json files into dataframe\n",
    "files = [\"StreamingHistory_music_0.json\",\n",
    "         \"StreamingHistory_music_1.json\"]\n",
    "dfs = [pd.read_json(file) for file in files]\n",
    "music_df = pd.concat(dfs, ignore_index=True)\n",
    "music_df.head()"
   ],
   "id": "e5b18ca96de3a4cd",
   "outputs": [
    {
     "data": {
      "text/plain": [
       "            endTime         artistName                             trackName  \\\n",
       "0  2024-08-31 00:33  Pharrell Williams  Double Life - From \"Despicable Me 4\"   \n",
       "1  2024-08-31 00:38           Doja Cat                                 Alone   \n",
       "2  2024-08-31 00:39            Normani                                  Fair   \n",
       "3  2024-08-31 00:39         Bebe Rexha    Baby, I'm Jealous (feat. Doja Cat)   \n",
       "4  2024-08-31 00:39         Anne-Marie          To Be Young (feat. Doja Cat)   \n",
       "\n",
       "   msPlayed  \n",
       "0     28437  \n",
       "1    228866  \n",
       "2      1066  \n",
       "3      7680  \n",
       "4      1173  "
      ],
      "text/html": [
       "<div>\n",
       "<style scoped>\n",
       "    .dataframe tbody tr th:only-of-type {\n",
       "        vertical-align: middle;\n",
       "    }\n",
       "\n",
       "    .dataframe tbody tr th {\n",
       "        vertical-align: top;\n",
       "    }\n",
       "\n",
       "    .dataframe thead th {\n",
       "        text-align: right;\n",
       "    }\n",
       "</style>\n",
       "<table border=\"1\" class=\"dataframe\">\n",
       "  <thead>\n",
       "    <tr style=\"text-align: right;\">\n",
       "      <th></th>\n",
       "      <th>endTime</th>\n",
       "      <th>artistName</th>\n",
       "      <th>trackName</th>\n",
       "      <th>msPlayed</th>\n",
       "    </tr>\n",
       "  </thead>\n",
       "  <tbody>\n",
       "    <tr>\n",
       "      <th>0</th>\n",
       "      <td>2024-08-31 00:33</td>\n",
       "      <td>Pharrell Williams</td>\n",
       "      <td>Double Life - From \"Despicable Me 4\"</td>\n",
       "      <td>28437</td>\n",
       "    </tr>\n",
       "    <tr>\n",
       "      <th>1</th>\n",
       "      <td>2024-08-31 00:38</td>\n",
       "      <td>Doja Cat</td>\n",
       "      <td>Alone</td>\n",
       "      <td>228866</td>\n",
       "    </tr>\n",
       "    <tr>\n",
       "      <th>2</th>\n",
       "      <td>2024-08-31 00:39</td>\n",
       "      <td>Normani</td>\n",
       "      <td>Fair</td>\n",
       "      <td>1066</td>\n",
       "    </tr>\n",
       "    <tr>\n",
       "      <th>3</th>\n",
       "      <td>2024-08-31 00:39</td>\n",
       "      <td>Bebe Rexha</td>\n",
       "      <td>Baby, I'm Jealous (feat. Doja Cat)</td>\n",
       "      <td>7680</td>\n",
       "    </tr>\n",
       "    <tr>\n",
       "      <th>4</th>\n",
       "      <td>2024-08-31 00:39</td>\n",
       "      <td>Anne-Marie</td>\n",
       "      <td>To Be Young (feat. Doja Cat)</td>\n",
       "      <td>1173</td>\n",
       "    </tr>\n",
       "  </tbody>\n",
       "</table>\n",
       "</div>"
      ]
     },
     "execution_count": 2,
     "metadata": {},
     "output_type": "execute_result"
    }
   ],
   "execution_count": 2
  },
  {
   "metadata": {},
   "cell_type": "code",
   "outputs": [],
   "execution_count": null,
   "source": "",
   "id": "3d77811f76e0a490"
  }
 ],
 "metadata": {
  "kernelspec": {
   "display_name": "Python 3",
   "language": "python",
   "name": "python3"
  },
  "language_info": {
   "codemirror_mode": {
    "name": "ipython",
    "version": 2
   },
   "file_extension": ".py",
   "mimetype": "text/x-python",
   "name": "python",
   "nbconvert_exporter": "python",
   "pygments_lexer": "ipython2",
   "version": "2.7.6"
  }
 },
 "nbformat": 4,
 "nbformat_minor": 5
}
